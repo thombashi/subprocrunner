{
 "cells": [
  {
   "cell_type": "code",
   "execution_count": 1,
   "metadata": {
    "collapsed": false,
    "deletable": true,
    "editable": true
   },
   "outputs": [
    {
     "output_type": "stream",
     "name": "stdout",
     "text": [
      "SubprocessRunner(command='echo test', returncode='not yet executed')\nreturn code: 0\nstdout: test\n\nSubprocessRunner(command='ls __not_exist_dir__', returncode='not yet executed')\nreturn code: 2\nstderr: ls: cannot access '__not_exist_dir__': No such file or directory\n\n"
     ]
    }
   ],
   "source": [
    "from subprocrunner import SubprocessRunner\n",
    "\n",
    "runner = SubprocessRunner([\"echo\", \"test\"])\n",
    "print(runner)\n",
    "print(f\"return code: {runner.run()}\")\n",
    "print(f\"stdout: {runner.stdout}\")\n",
    "\n",
    "runner = SubprocessRunner([\"ls\", \"__not_exist_dir__\"])\n",
    "print(runner)\n",
    "print(f\"return code: {runner.run()}\")\n",
    "print(f\"stderr: {runner.stderr}\")"
   ]
  },
  {
   "cell_type": "code",
   "execution_count": 2,
   "metadata": {},
   "outputs": [
    {
     "output_type": "stream",
     "name": "stdout",
     "text": [
      "SubprocessRunner(command='echo test', returncode='not yet executed', dryrun=True)\nreturn code: 0\nstdout: \n"
     ]
    }
   ],
   "source": [
    "# dry run\n",
    "from subprocrunner import SubprocessRunner\n",
    "\n",
    "runner = SubprocessRunner(\"echo test\", dry_run=True)\n",
    "print(runner)\n",
    "print(f\"return code: {runner.run()}\")\n",
    "print(f\"stdout: {runner.stdout}\")"
   ]
  },
  {
   "cell_type": "code",
   "execution_count": 3,
   "metadata": {
    "collapsed": false,
    "deletable": true,
    "editable": true
   },
   "outputs": [
    {
     "output_type": "stream",
     "name": "stdout",
     "text": [
      "echo hoge\necho foo\n"
     ]
    }
   ],
   "source": [
    "from subprocrunner import SubprocessRunner\n",
    "\n",
    "SubprocessRunner.clear_history()\n",
    "SubprocessRunner.is_save_history = True\n",
    "\n",
    "SubprocessRunner([\"echo\", \"hoge\"]).run()\n",
    "SubprocessRunner([\"echo\", \"foo\"]).run()\n",
    "\n",
    "print(\"\\n\".join(SubprocessRunner.get_history()))"
   ]
  },
  {
   "cell_type": "code",
   "execution_count": null,
   "metadata": {},
   "outputs": [],
   "source": []
  }
 ],
 "metadata": {
  "kernelspec": {
   "name": "python385jvsc74a57bd0a89ed08815272de879559165cd445f83ec1092d708f739d2a7c0690790beb904",
   "display_name": "Python 3.8.5 64-bit"
  },
  "language_info": {
   "codemirror_mode": {
    "name": "ipython",
    "version": 2
   },
   "file_extension": ".py",
   "mimetype": "text/x-python",
   "name": "python",
   "nbconvert_exporter": "python",
   "pygments_lexer": "ipython2",
   "version": "3.8.5"
  },
  "metadata": {
   "interpreter": {
    "hash": "a89ed08815272de879559165cd445f83ec1092d708f739d2a7c0690790beb904"
   }
  }
 },
 "nbformat": 4,
 "nbformat_minor": 0
}