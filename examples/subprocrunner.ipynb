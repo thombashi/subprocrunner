{
 "cells": [
  {
   "cell_type": "code",
   "execution_count": 1,
   "metadata": {
    "collapsed": false,
    "deletable": true,
    "editable": true
   },
   "outputs": [
    {
     "name": "stdout",
     "output_type": "stream",
     "text": [
      "SubprocessRunner(command='echo test', returncode='not yet executed')\n",
      "return code: 0\n",
      "stdout: test\n",
      "\n",
      "SubprocessRunner(command='ls __not_exist_dir__', returncode='not yet executed')\n",
      "return code: 2\n",
      "stderr: ls: cannot access '__not_exist_dir__': No such file or directory\n",
      "\n"
     ]
    }
   ],
   "source": [
    "from subprocrunner import SubprocessRunner\n",
    "\n",
    "runner = SubprocessRunner([\"echo\", \"test\"])\n",
    "print(runner)\n",
    "print(f\"return code: {runner.run()}\")\n",
    "print(f\"stdout: {runner.stdout}\")\n",
    "\n",
    "runner = SubprocessRunner([\"ls\", \"__not_exist_dir__\"])\n",
    "print(runner)\n",
    "print(f\"return code: {runner.run()}\")\n",
    "print(f\"stderr: {runner.stderr}\")"
   ]
  },
  {
   "cell_type": "code",
   "execution_count": 2,
   "metadata": {},
   "outputs": [
    {
     "name": "stdout",
     "output_type": "stream",
     "text": [
      "SubprocessRunner(command='echo test', returncode='not yet executed', dry_run=True)\n",
      "return code: 0\n",
      "stdout: \n"
     ]
    }
   ],
   "source": [
    "# dry run\n",
    "from subprocrunner import SubprocessRunner\n",
    "\n",
    "runner = SubprocessRunner(\"echo test\", dry_run=True)\n",
    "print(runner)\n",
    "print(f\"return code: {runner.run()}\")\n",
    "print(f\"stdout: {runner.stdout}\")"
   ]
  },
  {
   "cell_type": "code",
   "execution_count": 3,
   "metadata": {
    "collapsed": false,
    "deletable": true,
    "editable": true
   },
   "outputs": [
    {
     "name": "stdout",
     "output_type": "stream",
     "text": [
      "echo hoge\n",
      "echo foo\n"
     ]
    }
   ],
   "source": [
    "from subprocrunner import SubprocessRunner\n",
    "\n",
    "SubprocessRunner.clear_history()\n",
    "SubprocessRunner.is_save_history = True\n",
    "\n",
    "SubprocessRunner([\"echo\", \"hoge\"]).run()\n",
    "SubprocessRunner([\"echo\", \"foo\"]).run()\n",
    "\n",
    "print(\"\\n\".join(SubprocessRunner.get_history()))"
   ]
  },
  {
   "cell_type": "code",
   "execution_count": 4,
   "metadata": {},
   "outputs": [
    {
     "name": "stderr",
     "output_type": "stream",
     "text": [
      "run(check=True): Command 'ls not-exist-dir' returned non-zero exit status 2.\n",
      "ls: cannot access 'not-exist-dir': No such file or directory\n",
      "\n",
      "raise_for_returncode(): Command 'ls not-exist-dir' returned non-zero exit status 2.\n",
      "ls: cannot access 'not-exist-dir': No such file or directory\n",
      "\n"
     ]
    }
   ],
   "source": [
    "# raise an exception when a command execution failed\n",
    "import sys\n",
    "from subprocess import CalledProcessError\n",
    "from subprocrunner import SubprocessRunner\n",
    "\n",
    "runner = SubprocessRunner(\"ls not-exist-dir\")\n",
    "\n",
    "# raise an exception at run\n",
    "try:\n",
    "    runner.run(check=True)\n",
    "except CalledProcessError as e:\n",
    "    print(f\"run(check=True): {e}\\n{e.stderr}\", file=sys.stderr)\n",
    "\n",
    "\n",
    "# raise an exception after run\n",
    "runner.run()\n",
    "try:\n",
    "    runner.raise_for_returncode()\n",
    "except CalledProcessError as e:\n",
    "    print(f\"raise_for_returncode(): {e}\\n{e.stderr}\", file=sys.stderr)"
   ]
  }
 ],
 "metadata": {
  "interpreter": {
   "hash": "3553a7ded2e4454cfa5e59c00e8ab312e603394ca909b0882892880caf1af382"
  },
  "kernelspec": {
   "display_name": "Python 3.8.5 64-bit",
   "language": "python",
   "name": "python3"
  },
  "language_info": {
   "codemirror_mode": {
    "name": "ipython",
    "version": 3
   },
   "file_extension": ".py",
   "mimetype": "text/x-python",
   "name": "python",
   "nbconvert_exporter": "python",
   "pygments_lexer": "ipython3",
   "version": "3.8.11"
  },
  "metadata": {
   "interpreter": {
    "hash": "a89ed08815272de879559165cd445f83ec1092d708f739d2a7c0690790beb904"
   }
  }
 },
 "nbformat": 4,
 "nbformat_minor": 0
}
